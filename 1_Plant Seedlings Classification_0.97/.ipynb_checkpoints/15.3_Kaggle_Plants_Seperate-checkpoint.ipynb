{
 "cells": [
  {
   "cell_type": "markdown",
   "metadata": {},
   "source": [
    "I am going to seperate the dataset into training set and the testing set\n",
    "\n",
    "As mentioned in previous file\n",
    "\n",
    "I will use 90% for training set and 10% for testing set"
   ]
  },
  {
   "cell_type": "code",
   "execution_count": 1,
   "metadata": {},
   "outputs": [],
   "source": [
    "import os\n",
    "import cv2\n",
    "import numpy as np\n",
    "from random import shuffle"
   ]
  },
  {
   "cell_type": "code",
   "execution_count": 2,
   "metadata": {},
   "outputs": [
    {
     "name": "stdout",
     "output_type": "stream",
     "text": [
      "['Cleavers', 'Sugar beet', 'Common Chickweed', 'Loose Silky-bent', 'Scentless Mayweed', 'Shepherds Purse', 'Fat Hen', 'Common wheat', 'Black-grass', 'Small-flowered Cranesbill', 'Charlock', 'Maize']\n",
      "Cleavers\n",
      "Sugar beet\n",
      "Common Chickweed\n",
      "Loose Silky-bent\n",
      "Scentless Mayweed\n",
      "Shepherds Purse\n",
      "Fat Hen\n",
      "Common wheat\n",
      "Black-grass\n",
      "Small-flowered Cranesbill\n",
      "Charlock\n",
      "Maize\n",
      "12\n"
     ]
    }
   ],
   "source": [
    "data_dir = \"plants/resized/\"\n",
    "class_list = os.listdir(data_dir)\n",
    "class_name = []\n",
    "for name in class_list:\n",
    "    if not name.startswith('.'):\n",
    "        class_name.append(name)\n",
    "        \n",
    "print(class_name)\n",
    "\n",
    "for name in class_name:\n",
    "    print(name)\n",
    "    \n",
    "num_classes = len(class_name)\n",
    "print(num_classes)\n",
    "np.save(\"class_name\", class_name)"
   ]
  },
  {
   "cell_type": "code",
   "execution_count": 3,
   "metadata": {},
   "outputs": [
    {
     "name": "stdout",
     "output_type": "stream",
     "text": [
      "900 100\n",
      "1800 200\n",
      "2700 300\n",
      "3600 400\n",
      "4500 500\n",
      "5400 600\n",
      "6300 700\n",
      "7200 800\n",
      "8100 900\n",
      "9000 1000\n",
      "9900 1100\n",
      "10800 1200\n"
     ]
    }
   ],
   "source": [
    "x_train = []\n",
    "y_train = []\n",
    "x_test = []\n",
    "y_test = []\n",
    "temp_train = []\n",
    "temp_test = []\n",
    "\n",
    "for name in class_name:\n",
    "    class_dir = data_dir + name + \"/\"\n",
    "    file_list = os.listdir(class_dir)\n",
    "    i = 0\n",
    "    \n",
    "    for file in file_list:\n",
    "        file_dir = class_dir + file\n",
    "        image = cv2.imread(file_dir) \n",
    "#         image = image.astype('float16')/255\n",
    "        \n",
    "        if i < 900:\n",
    "            temp_train.append([image, name])\n",
    "        else:\n",
    "            temp_test.append([image,name])\n",
    "        \n",
    "        i += 1\n",
    "        \n",
    "    print(len(temp_train), len(temp_test))\n",
    "    \n",
    "shuffle(temp_train)\n",
    "shuffle(temp_test)"
   ]
  },
  {
   "cell_type": "code",
   "execution_count": 4,
   "metadata": {},
   "outputs": [],
   "source": [
    "y_train = [i[1] for i in temp_train]\n",
    "y_test = [i[1] for i in temp_test]"
   ]
  },
  {
   "cell_type": "code",
   "execution_count": 5,
   "metadata": {},
   "outputs": [
    {
     "name": "stdout",
     "output_type": "stream",
     "text": [
      "Black-grass\n",
      "Loose Silky-bent\n",
      "Black-grass\n",
      "Charlock\n",
      "Black-grass\n",
      "Shepherds Purse\n",
      "Charlock\n",
      "Common Chickweed\n",
      "Loose Silky-bent\n",
      "[0. 0. 0. 0. 0. 0. 0. 0. 1. 0. 0. 0.]\n",
      "[0. 0. 0. 1. 0. 0. 0. 0. 0. 0. 0. 0.]\n",
      "[0. 0. 0. 0. 0. 0. 0. 0. 1. 0. 0. 0.]\n",
      "[0. 0. 0. 0. 0. 0. 0. 0. 0. 0. 1. 0.]\n",
      "[0. 0. 0. 0. 0. 0. 0. 0. 1. 0. 0. 0.]\n",
      "[0. 0. 0. 0. 0. 1. 0. 0. 0. 0. 0. 0.]\n",
      "[0. 0. 0. 0. 0. 0. 0. 0. 0. 0. 1. 0.]\n",
      "[0. 0. 1. 0. 0. 0. 0. 0. 0. 0. 0. 0.]\n",
      "[0. 0. 0. 1. 0. 0. 0. 0. 0. 0. 0. 0.]\n"
     ]
    }
   ],
   "source": [
    "for i in range(9):\n",
    "    print(y_train[i])\n",
    "\n",
    "# convert to one hot encoing \n",
    "# print(class_name, len(class_name))\n",
    "train_hot = np.zeros([len(y_train), num_classes])\n",
    "test_hot = np.zeros([len(y_test), num_classes])\n",
    "\n",
    "for i in range(len(y_train)):\n",
    "    j = 0\n",
    "    for name in class_name:\n",
    "        if y_train[i] == name:\n",
    "            break\n",
    "        else:\n",
    "            j += 1\n",
    "    \n",
    "    train_hot[i][j] = 1   \n",
    "    \n",
    "for i in range(len(y_test)):\n",
    "    j = 0\n",
    "    \n",
    "    for name in class_name:\n",
    "        if y_test[i] == name:\n",
    "            break\n",
    "        else:\n",
    "            j += 1\n",
    "    \n",
    "    test_hot[i][j] = 1   \n",
    "\n",
    "y_train = train_hot\n",
    "y_test = test_hot\n",
    "    \n",
    "for i in range(9):\n",
    "    print(y_train[i])"
   ]
  },
  {
   "cell_type": "code",
   "execution_count": 6,
   "metadata": {},
   "outputs": [],
   "source": [
    "np.save(\"y_train.npy\",y_train)\n",
    "np.save(\"y_test.npy\",y_test)\n",
    "y_train = []\n",
    "y_test = []"
   ]
  },
  {
   "cell_type": "code",
   "execution_count": 7,
   "metadata": {},
   "outputs": [],
   "source": [
    "temp_test = np.array([i[0] for i in temp_test]).reshape(-1,300,300,3)\n",
    "np.save(\"x_test.npy\",temp_test)\n",
    "temp_test = []"
   ]
  },
  {
   "cell_type": "code",
   "execution_count": 8,
   "metadata": {},
   "outputs": [],
   "source": [
    "temp_train = np.array([i[0] for i in temp_train]).reshape(-1,300,300,3)\n",
    "np.save(\"x_train.npy\",temp_train)"
   ]
  },
  {
   "cell_type": "markdown",
   "metadata": {},
   "source": [
    "Now I have seperated the Dataset into Training and Test set and into input and output\n",
    "\n",
    "time to save it into the disk so I can reload the file into the memory without doing all the processing\n",
    "\n",
    "Beofre Save it into the file, I want to convert to one-hot encoding and normalize input"
   ]
  }
 ],
 "metadata": {
  "kernelspec": {
   "display_name": "Python 3",
   "language": "python",
   "name": "python3"
  },
  "language_info": {
   "codemirror_mode": {
    "name": "ipython",
    "version": 3
   },
   "file_extension": ".py",
   "mimetype": "text/x-python",
   "name": "python",
   "nbconvert_exporter": "python",
   "pygments_lexer": "ipython3",
   "version": "3.6.4"
  }
 },
 "nbformat": 4,
 "nbformat_minor": 2
}
