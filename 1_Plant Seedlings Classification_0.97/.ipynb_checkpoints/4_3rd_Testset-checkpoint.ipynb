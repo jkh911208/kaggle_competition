{
 "cells": [
  {
   "cell_type": "code",
   "execution_count": 3,
   "metadata": {},
   "outputs": [],
   "source": [
    "import os\n",
    "import numpy as np\n",
    "import cv2\n",
    "from random import shuffle"
   ]
  },
  {
   "cell_type": "code",
   "execution_count": 2,
   "metadata": {},
   "outputs": [],
   "source": [
    "class_name = np.load(\"numpy/class_name.npy\")"
   ]
  },
  {
   "cell_type": "code",
   "execution_count": null,
   "metadata": {},
   "outputs": [],
   "source": [
    "raw_dir = \"plants/raw/\"\n",
    "temp = []\n",
    "\n",
    "for name in class_name:\n",
    "    class_dir = raw + name + \"/\"\n",
    "    file_list = os.listdir(class_dir)\n",
    "    shuffle(file_list)\n",
    "    file_list = file_list[:50]\n",
    "    \n",
    "    for file in file_list:\n",
    "        file_dir = class_dir + file\n",
    "        image = cv2.imread(file_dir) \n",
    "        image = cv2.cvtColor(image, cv2.COLOR_BGR2RGB)\n",
    "        image = image.astype('float32')/255\n",
    "        temp_train.append([image, name])"
   ]
  }
 ],
 "metadata": {
  "kernelspec": {
   "display_name": "Python 3",
   "language": "python",
   "name": "python3"
  },
  "language_info": {
   "codemirror_mode": {
    "name": "ipython",
    "version": 3
   },
   "file_extension": ".py",
   "mimetype": "text/x-python",
   "name": "python",
   "nbconvert_exporter": "python",
   "pygments_lexer": "ipython3",
   "version": "3.6.4"
  }
 },
 "nbformat": 4,
 "nbformat_minor": 2
}
