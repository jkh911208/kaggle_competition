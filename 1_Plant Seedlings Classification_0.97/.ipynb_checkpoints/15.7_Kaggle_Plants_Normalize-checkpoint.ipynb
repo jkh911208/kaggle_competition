{
 "cells": [
  {
   "cell_type": "markdown",
   "metadata": {},
   "source": [
    "I am going to seperate the dataset into training set and the testing set\n",
    "\n",
    "As mentioned in previous file\n",
    "\n",
    "I will use 90% for training set and 10% for testing set"
   ]
  },
  {
   "cell_type": "code",
   "execution_count": 1,
   "metadata": {},
   "outputs": [],
   "source": [
    "import os\n",
    "import cv2\n",
    "import numpy as np\n",
    "from random import shuffle"
   ]
  },
  {
   "cell_type": "code",
   "execution_count": 3,
   "metadata": {},
   "outputs": [],
   "source": [
    "data_dir = \"plants/resized/\"\n",
    "class_list = os.listdir(data_dir)\n",
    "class_name = []\n",
    "for name in class_list:\n",
    "    if not name.startswith('.'):\n",
    "        class_name.append(name)\n",
    "        \n",
    "# print(class_name)\n",
    "\n",
    "# for name in class_name:\n",
    "#     print(name)\n",
    "    \n",
    "num_classes = len(class_name)\n",
    "# print(num_classes)\n",
    "np.save(\"class_name\", class_name)"
   ]
  },
  {
   "cell_type": "code",
   "execution_count": 4,
   "metadata": {},
   "outputs": [
    {
     "ename": "SyntaxError",
     "evalue": "invalid syntax (<ipython-input-4-0cf7e27c6285>, line 4)",
     "output_type": "error",
     "traceback": [
      "\u001b[0;36m  File \u001b[0;32m\"<ipython-input-4-0cf7e27c6285>\"\u001b[0;36m, line \u001b[0;32m4\u001b[0m\n\u001b[0;31m    for i range(10)\u001b[0m\n\u001b[0m              ^\u001b[0m\n\u001b[0;31mSyntaxError\u001b[0m\u001b[0;31m:\u001b[0m invalid syntax\n"
     ]
    }
   ],
   "source": [
    "x_train = []\n",
    "y_train = []\n",
    "temp_train = []\n",
    "for i in range(10):\n",
    "    for name in class_name:\n",
    "        class_dir = data_dir + name + \"/\"\n",
    "        file_list = os.listdir(class_dir)\n",
    "        file_list = file_list[i*100:(i+1)*100]\n",
    "\n",
    "        for file in file_list:\n",
    "            file_dir = class_dir + file\n",
    "            image = cv2.imread(file_dir) \n",
    "            image = image.astype('float32')/255\n",
    "            temp_train.append([image, name])\n",
    "        \n",
    "        print(len(temp_train))\n",
    "        \n",
    "    shuffle(temp_train)\n",
    "    \n",
    "    y_train = [j[1] for j in temp_train]\n",
    "    \n",
    "    # convert to one hot encoing \n",
    "    train_hot = np.zeros([len(y_train), num_classes])\n",
    "\n",
    "    for k in range(len(y_train)):\n",
    "        j = 0\n",
    "        for name in class_name:\n",
    "            if y_train[k] == name:\n",
    "                break\n",
    "            else:\n",
    "                j += 1\n",
    "\n",
    "        train_hot[k][j] = 1   \n",
    "\n",
    "    y_train = train_hot\n",
    "\n",
    "    \n",
    "    x_train = np.array([j[0] for j in temp_train]).reshape(-1,300,300,3)\n",
    "\n",
    "    np.save(\"x_train_{}.npy\".format(i) ,x_train)\n",
    "    np.save(\"y_train_{}.npy\".format(i) ,y_train)\n",
    "    \n",
    "    train_hot = []\n",
    "    x_train = []\n",
    "    y_train = []\n",
    "    temp_train = []"
   ]
  },
  {
   "cell_type": "markdown",
   "metadata": {},
   "source": [
    "Now I have seperated the Dataset into Training and Test set and into input and output\n",
    "\n",
    "time to save it into the disk so I can reload the file into the memory without doing all the processing\n",
    "\n",
    "Beofre Save it into the file, I want to convert to one-hot encoding and normalize input"
   ]
  }
 ],
 "metadata": {
  "kernelspec": {
   "display_name": "Python 3",
   "language": "python",
   "name": "python3"
  },
  "language_info": {
   "codemirror_mode": {
    "name": "ipython",
    "version": 3
   },
   "file_extension": ".py",
   "mimetype": "text/x-python",
   "name": "python",
   "nbconvert_exporter": "python",
   "pygments_lexer": "ipython3",
   "version": "3.6.4"
  }
 },
 "nbformat": 4,
 "nbformat_minor": 2
}
