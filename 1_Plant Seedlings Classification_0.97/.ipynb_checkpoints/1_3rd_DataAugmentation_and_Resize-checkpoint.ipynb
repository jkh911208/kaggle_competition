{
 "cells": [
  {
   "cell_type": "code",
   "execution_count": 1,
   "metadata": {},
   "outputs": [
    {
     "name": "stderr",
     "output_type": "stream",
     "text": [
      "/usr/local/lib/python3.6/site-packages/h5py/__init__.py:36: FutureWarning: Conversion of the second argument of issubdtype from `float` to `np.floating` is deprecated. In future, it will be treated as `np.float64 == np.dtype(float).type`.\n",
      "  from ._conv import register_converters as _register_converters\n",
      "Using TensorFlow backend.\n"
     ]
    }
   ],
   "source": [
    "import os\n",
    "import numpy as np\n",
    "import cv2\n",
    "from keras.preprocessing.image import ImageDataGenerator\n",
    "from math import ceil\n",
    "from multiprocessing import Pool"
   ]
  },
  {
   "cell_type": "code",
   "execution_count": 2,
   "metadata": {},
   "outputs": [],
   "source": [
    "raw_dir = \"plants/raw/\"\n",
    "file_list = os.listdir(raw_dir)\n",
    "class_name = []\n",
    "for name in file_list:\n",
    "    if not name.startswith('.'):\n",
    "        class_name.append(name)"
   ]
  },
  {
   "cell_type": "code",
   "execution_count": 3,
   "metadata": {},
   "outputs": [],
   "source": [
    "augmented_dir = \"plants/augmented_multi/\"\n",
    "\n",
    "if not os.path.exists(augmented_dir):\n",
    "        os.mkdir(augmented_dir)\n",
    "        \n",
    "for name in class_name:\n",
    "    class_dir = augmented_dir + name + \"/\"\n",
    "    if not os.path.exists(class_dir):\n",
    "        os.mkdir(class_dir)"
   ]
  },
  {
   "cell_type": "code",
   "execution_count": null,
   "metadata": {},
   "outputs": [],
   "source": [
    "target = 3000\n",
    "\n",
    "datagen = ImageDataGenerator(\n",
    "        rotation_range=40,\n",
    "        width_shift_range=0.2,\n",
    "        height_shift_range=0.2,\n",
    "        shear_range=0.2,\n",
    "        zoom_range=0.2,\n",
    "        vertical_flip=True,\n",
    "        horizontal_flip=True,\n",
    "        fill_mode='reflect')\n",
    "\n",
    "def augmentation(name):\n",
    "    print(\"Start Augmenting \" + name)\n",
    "    class_dir = raw_dir + name +\"/\"\n",
    "    augmented_class_dir = augmented_dir + name + \"/\"\n",
    "    \n",
    "    file_list = os.listdir(class_dir)\n",
    "    augmented_list = os.listdir(augmented_class_dir)\n",
    "    \n",
    "    for file_name in file_list:\n",
    "        if not file_name.endswith(\".png\"):\n",
    "            file_list.remove(file_name)\n",
    "#             print(\"Removed\")\n",
    "    \n",
    "    num_augment = ceil(target / len(file_list)) + 1\n",
    "    \n",
    "    for file_name in file_list:\n",
    "        if not file_name.endswith(\".png\"):\n",
    "            continue\n",
    "\n",
    "        file_dir = class_dir + file_name\n",
    "        image = cv2.imread(file_dir)\n",
    "        print(\"1\")\n",
    "        image = cv2.cvtColor(image, cv2.COLOR_BGR2RGB)\n",
    "#         image = image[...,::-1] # BGR2RGB\n",
    "        print(image.shape)\n",
    "        image = cv2.resize(image,(100,100))\n",
    "        print(\"2\")\n",
    "        height, width, channel = image.shape\n",
    "        \n",
    "        if channel != 3:\n",
    "            continue\n",
    "            \n",
    "        x = np.array(image).reshape([1,height,width,channel])\n",
    "    \n",
    "        i = 0\n",
    "        for batch in datagen.flow(x, batch_size=1,\n",
    "                                  save_to_dir=augmented_class_dir, save_prefix='aug_', save_format='png'):\n",
    "            i += 1\n",
    "            if i >= num_augment:\n",
    "                break  # otherwise the generator would loop indefinitely\n",
    "\n",
    "    print(\"Finished Augmenting \" + name)"
   ]
  },
  {
   "cell_type": "code",
   "execution_count": null,
   "metadata": {},
   "outputs": [
    {
     "name": "stdout",
     "output_type": "stream",
     "text": [
      "Start Augmenting Sugar beet\n",
      "Start Augmenting Loose Silky-bent\n",
      "Start Augmenting Cleavers\n",
      "Start Augmenting Scentless Mayweed\n",
      "Start Augmenting Shepherds Purse\n",
      "Start Augmenting Common Chickweed\n",
      "Start Augmenting Common wheat\n",
      "Start Augmenting Black-grass\n",
      "Start Augmenting Fat Hen\n",
      "Start Augmenting Small-flowered Cranesbill\n",
      "Start Augmenting Charlock\n",
      "Start Augmenting Maize\n",
      "1\n",
      "1\n",
      "1\n",
      "1\n",
      "(109, 109, 3)\n",
      "1\n",
      "1\n",
      "(186, 186, 3)\n",
      "(134, 134, 3)\n",
      "(104, 104, 3)\n",
      "1\n",
      "(221, 221, 3)\n",
      "(234, 234, 3)\n",
      "1\n",
      "1\n",
      "(352, 352, 3)\n",
      "1\n",
      "1\n",
      "(365, 365, 3)\n",
      "1\n",
      "(531, 531, 3)\n",
      "(618, 618, 3)\n",
      "(577, 577, 3)\n",
      "(575, 575, 3)\n"
     ]
    }
   ],
   "source": [
    "p = Pool()\n",
    "p.map(augmentation, [name for name in class_name])"
   ]
  },
  {
   "cell_type": "code",
   "execution_count": null,
   "metadata": {},
   "outputs": [],
   "source": []
  }
 ],
 "metadata": {
  "kernelspec": {
   "display_name": "Python 3",
   "language": "python",
   "name": "python3"
  },
  "language_info": {
   "codemirror_mode": {
    "name": "ipython",
    "version": 3
   },
   "file_extension": ".py",
   "mimetype": "text/x-python",
   "name": "python",
   "nbconvert_exporter": "python",
   "pygments_lexer": "ipython3",
   "version": "3.6.4"
  }
 },
 "nbformat": 4,
 "nbformat_minor": 2
}
