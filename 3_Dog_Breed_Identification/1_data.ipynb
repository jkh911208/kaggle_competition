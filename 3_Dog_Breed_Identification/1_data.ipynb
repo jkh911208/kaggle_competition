{
 "cells": [
  {
   "cell_type": "code",
   "execution_count": 20,
   "metadata": {},
   "outputs": [],
   "source": [
    "import pandas as pd\n",
    "import numpy as np\n",
    "import os\n",
    "from keras.preprocessing.image import ImageDataGenerator\n",
    "from math import ceil\n",
    "from multiprocessing import Pool\n",
    "import cv2"
   ]
  },
  {
   "cell_type": "code",
   "execution_count": 2,
   "metadata": {},
   "outputs": [],
   "source": [
    "label = pd.read_csv(\"labels.csv\")"
   ]
  },
  {
   "cell_type": "code",
   "execution_count": 5,
   "metadata": {},
   "outputs": [],
   "source": [
    "label_unique = list(set(list(label[\"breed\"])))"
   ]
  },
  {
   "cell_type": "code",
   "execution_count": 10,
   "metadata": {},
   "outputs": [],
   "source": [
    "class_name = label_unique.sort()"
   ]
  },
  {
   "cell_type": "code",
   "execution_count": 9,
   "metadata": {},
   "outputs": [],
   "source": [
    "np.save(\"numpy/class_name.npy\", label_unique)"
   ]
  },
  {
   "cell_type": "code",
   "execution_count": 14,
   "metadata": {},
   "outputs": [],
   "source": [
    "for name in class_name:\n",
    "    dir_path = \"train/\" + name + \"/\"\n",
    "    if not os.path.exists(dir_path):\n",
    "        os.mkdir(dir_path)"
   ]
  },
  {
   "cell_type": "code",
   "execution_count": 15,
   "metadata": {},
   "outputs": [],
   "source": [
    "file = list(label[\"id\"])\n",
    "label = list(label[\"breed\"])"
   ]
  },
  {
   "cell_type": "code",
   "execution_count": 17,
   "metadata": {},
   "outputs": [],
   "source": [
    "for i in range(len(file)):\n",
    "    file_name = file[i]\n",
    "    label_name = label[i]\n",
    "    \n",
    "    original_path = \"train/\" + file_name + \".jpg\"\n",
    "    new_path = \"train/\" + label_name + \"/\" + file_name + \".jpg\"\n",
    "    \n",
    "    os.rename(original_path, new_path)"
   ]
  },
  {
   "cell_type": "code",
   "execution_count": 24,
   "metadata": {},
   "outputs": [],
   "source": [
    "augmented_dir = \"augmented/\"\n",
    "\n",
    "if not os.path.exists(augmented_dir):\n",
    "        os.mkdir(augmented_dir)\n",
    "        \n",
    "for name in class_name:\n",
    "    class_dir = augmented_dir + name + \"/\"\n",
    "    if not os.path.exists(class_dir):\n",
    "        os.mkdir(class_dir)"
   ]
  },
  {
   "cell_type": "code",
   "execution_count": 1,
   "metadata": {},
   "outputs": [
    {
     "ename": "NameError",
     "evalue": "name 'ImageDataGenerator' is not defined",
     "output_type": "error",
     "traceback": [
      "\u001b[0;31m---------------------------------------------------------------------------\u001b[0m",
      "\u001b[0;31mNameError\u001b[0m                                 Traceback (most recent call last)",
      "\u001b[0;32m<ipython-input-1-91065ae852ef>\u001b[0m in \u001b[0;36m<module>\u001b[0;34m()\u001b[0m\n\u001b[1;32m      2\u001b[0m \u001b[0mraw_dir\u001b[0m \u001b[0;34m=\u001b[0m \u001b[0;34m\"train/\"\u001b[0m\u001b[0;34m\u001b[0m\u001b[0m\n\u001b[1;32m      3\u001b[0m \u001b[0;34m\u001b[0m\u001b[0m\n\u001b[0;32m----> 4\u001b[0;31m datagen = ImageDataGenerator(\n\u001b[0m\u001b[1;32m      5\u001b[0m         \u001b[0mrotation_range\u001b[0m\u001b[0;34m=\u001b[0m\u001b[0;36m40\u001b[0m\u001b[0;34m,\u001b[0m\u001b[0;34m\u001b[0m\u001b[0m\n\u001b[1;32m      6\u001b[0m         \u001b[0mwidth_shift_range\u001b[0m\u001b[0;34m=\u001b[0m\u001b[0;36m0.2\u001b[0m\u001b[0;34m,\u001b[0m\u001b[0;34m\u001b[0m\u001b[0m\n",
      "\u001b[0;31mNameError\u001b[0m: name 'ImageDataGenerator' is not defined"
     ]
    }
   ],
   "source": [
    "target = 3000\n",
    "raw_dir = \"train/\"\n",
    "\n",
    "datagen = ImageDataGenerator(\n",
    "        rotation_range=40,\n",
    "        width_shift_range=0.2,\n",
    "        height_shift_range=0.2,\n",
    "        shear_range=0.2,\n",
    "        zoom_range=0.2,\n",
    "        vertical_flip=False,\n",
    "        horizontal_flip=True,\n",
    "        fill_mode='constant',\n",
    "        cval=0)\n",
    "\n",
    "def augmentation(name):\n",
    "    print(\"Start Augmenting \" + name)\n",
    "    class_dir = raw_dir + name +\"/\"\n",
    "    augmented_class_dir = augmented_dir + name + \"/\"\n",
    "    \n",
    "    file_list = os.listdir(class_dir)\n",
    "    augmented_list = os.listdir(augmented_class_dir)\n",
    "    \n",
    "    num_augment = ceil(target / len(file_list))\n",
    "    \n",
    "    for file_name in file_list:\n",
    "        file_dir = class_dir + file_name\n",
    "        image = cv2.imread(file_dir)\n",
    "        \n",
    "        if image is None or image.shape[2] != 3:\n",
    "            continue\n",
    "        \n",
    "        height, width, channels = image.shape\n",
    "        max_val = max(height, width)\n",
    "        square= np.zeros((max_val,max_val,3), np.uint8)\n",
    "        height_from, height_to = int((max_val-height)/2), int(max_val-(max_val-height)/2)\n",
    "        width_from, width_to = int((max_val-width)/2), int(max_val-(max_val-width)/2)\n",
    "        square[height_from:height_to, width_from:width_to] = image\n",
    "        image = cv2.resize(image,(150,150))\n",
    "        \n",
    "        x = np.array(image).reshape([1,150,150,3])\n",
    "    \n",
    "        i = 0\n",
    "        for batch in datagen.flow(x, batch_size=1,\n",
    "                                  save_to_dir=augmented_class_dir, save_prefix='aug_', save_format='png'):\n",
    "            i += 1\n",
    "            if i >= num_augment:\n",
    "                break  # otherwise the generator would loop indefinitely\n",
    "\n",
    "    print(\"Finished Augmenting \" + name)"
   ]
  },
  {
   "cell_type": "code",
   "execution_count": null,
   "metadata": {},
   "outputs": [
    {
     "name": "stdout",
     "output_type": "stream",
     "text": [
      "Start Augmenting giant_schnauzer\n",
      "Start Augmenting saint_bernard\n",
      "Start Augmenting irish_terrier\n",
      "Start Augmenting borzoi\n",
      "Start Augmenting french_bulldog\n",
      "Start Augmenting collie\n",
      "Start Augmenting boston_bull\n",
      "Start Augmenting weimaraner\n",
      "Start Augmenting walker_hound\n",
      "Start Augmenting maltese_dog\n",
      "Start Augmenting chow\n",
      "Start Augmenting american_staffordshire_terrier\n",
      "Start Augmenting shih-tzu\n",
      "Start Augmenting bull_mastiff\n",
      "Start Augmenting bernese_mountain_dog\n",
      "Start Augmenting standard_schnauzer\n",
      "Start Augmenting standard_poodle\n",
      "Start Augmenting miniature_pinscher\n",
      "Start Augmenting toy_terrier\n",
      "Start Augmenting silky_terrier\n",
      "Start Augmenting papillon\n",
      "Start Augmenting newfoundland\n",
      "Start Augmenting scottish_deerhound\n",
      "Start Augmenting labrador_retriever\n",
      "Start Augmenting kerry_blue_terrier\n",
      "Start Augmenting komondor\n",
      "Start Augmenting brittany_spaniel\n",
      "Start Augmenting beagle\n",
      "Start Augmenting chihuahua\n",
      "Start Augmenting great_dane\n",
      "Start Augmenting wire-haired_fox_terrier\n",
      "Start Augmenting ibizan_hound\n",
      "Start Augmenting entlebucher\n",
      "Start Augmenting saluki\n",
      "Start Augmenting affenpinscher\n",
      "Start Augmenting italian_greyhound\n",
      "Start Augmenting soft-coated_wheaten_terrier\n",
      "Start Augmenting blenheim_spaniel\n",
      "Start Augmenting briard\n",
      "Start Augmenting bedlington_terrier\n"
     ]
    }
   ],
   "source": [
    "p = Pool()\n",
    "p.map(augmentation, [name for name in class_name])"
   ]
  },
  {
   "cell_type": "code",
   "execution_count": null,
   "metadata": {},
   "outputs": [],
   "source": []
  }
 ],
 "metadata": {
  "kernelspec": {
   "display_name": "Python 3",
   "language": "python",
   "name": "python3"
  },
  "language_info": {
   "codemirror_mode": {
    "name": "ipython",
    "version": 3
   },
   "file_extension": ".py",
   "mimetype": "text/x-python",
   "name": "python",
   "nbconvert_exporter": "python",
   "pygments_lexer": "ipython3",
   "version": "3.6.4"
  }
 },
 "nbformat": 4,
 "nbformat_minor": 2
}
