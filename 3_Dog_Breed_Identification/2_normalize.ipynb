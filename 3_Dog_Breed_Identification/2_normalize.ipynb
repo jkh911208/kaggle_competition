{
 "cells": [
  {
   "cell_type": "code",
   "execution_count": null,
   "metadata": {},
   "outputs": [],
   "source": [
    "import cv2\n",
    "import os\n",
    "import numpy as np\n",
    "from multiprocessing import Pool\n",
    "from random import shuffle"
   ]
  },
  {
   "cell_type": "code",
   "execution_count": null,
   "metadata": {},
   "outputs": [],
   "source": [
    "class_name = np.load(\"numpy/class_name.npy\")\n",
    "num_classes = len(class_name)\n",
    "\n",
    "data_dir = \"augmented/\"\n",
    "for name in class_name:\n",
    "    data_list = os.listdir(data_dir + name)\n",
    "    shuffle(data_list)\n",
    "    np.save(\"numpy/{}_list.npy\".format(name), data_list)"
   ]
  },
  {
   "cell_type": "code",
   "execution_count": null,
   "metadata": {},
   "outputs": [],
   "source": [
    "target = 3000\n",
    "each = 10\n",
    "\n",
    "x_train = []\n",
    "y_train = []\n",
    "temp_train = []\n",
    "\n",
    "def normalize(i):\n",
    "    for name in class_name:\n",
    "        class_dir = data_dir + name + \"/\"\n",
    "        #print(class_dir)\n",
    "        file_list = np.load(\"numpy/\" + name + \"_list.npy\")\n",
    "        file_list = file_list[i*each:(i+1)*each]\n",
    "\n",
    "        for file in file_list:\n",
    "            file_dir = class_dir + file\n",
    "            image = cv2.imread(file_dir) \n",
    "            image = image.astype('float32')/255\n",
    "            temp_train.append([image, name])\n",
    "        \n",
    "#         print(len(temp_train))\n",
    "        \n",
    "    shuffle(temp_train)\n",
    "    \n",
    "    y_train = [j[1] for j in temp_train]\n",
    "    \n",
    "    # convert to one hot encoing \n",
    "    train_hot = np.zeros([len(y_train), num_classes]).astype(\"uint8\")\n",
    "\n",
    "    for k in range(len(y_train)):\n",
    "        j = 0\n",
    "        for name in class_name:\n",
    "            if y_train[k] == name:\n",
    "                break\n",
    "            else:\n",
    "                j += 1\n",
    "\n",
    "        train_hot[k][j] = 1   \n",
    "\n",
    "    y_train = train_hot\n",
    "    \n",
    "    x_train = np.array([j[0] for j in temp_train]).reshape(-1,150,150,3)\n",
    "\n",
    "    np.save(\"numpy/x_train_{}.npy\".format(i) ,x_train)\n",
    "    np.save(\"numpy/y_train_{}.npy\".format(i) ,y_train)\n",
    "    \n",
    "    train_hot = []\n",
    "    x_train = []\n",
    "    y_train = []\n",
    "    temp_train = []"
   ]
  },
  {
   "cell_type": "code",
   "execution_count": null,
   "metadata": {},
   "outputs": [],
   "source": [
    "p = Pool()\n",
    "p.map(normalize, [i for i in range(int(target/each))])"
   ]
  }
 ],
 "metadata": {
  "kernelspec": {
   "display_name": "Python 3",
   "language": "python",
   "name": "python3"
  },
  "language_info": {
   "codemirror_mode": {
    "name": "ipython",
    "version": 3
   },
   "file_extension": ".py",
   "mimetype": "text/x-python",
   "name": "python",
   "nbconvert_exporter": "python",
   "pygments_lexer": "ipython3",
   "version": "3.6.4"
  }
 },
 "nbformat": 4,
 "nbformat_minor": 2
}
