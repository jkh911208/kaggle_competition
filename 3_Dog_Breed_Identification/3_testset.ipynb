{
 "cells": [
  {
   "cell_type": "code",
   "execution_count": 4,
   "metadata": {},
   "outputs": [],
   "source": [
    "import os\n",
    "import numpy as np\n",
    "import cv2\n",
    "from random import shuffle"
   ]
  },
  {
   "cell_type": "code",
   "execution_count": 5,
   "metadata": {},
   "outputs": [],
   "source": [
    "class_name = np.load(\"numpy/class_name.npy\")\n",
    "num_classes = len(class_name)"
   ]
  },
  {
   "cell_type": "code",
   "execution_count": 10,
   "metadata": {},
   "outputs": [],
   "source": [
    "raw_dir = \"train/\"\n",
    "temp = []\n",
    "\n",
    "for name in class_name:\n",
    "    class_dir = raw_dir + name + \"/\"\n",
    "    file_list = os.listdir(class_dir)\n",
    "    shuffle(file_list)\n",
    "    file_list = file_list[:5]\n",
    "    \n",
    "    for file in file_list:\n",
    "        file_dir = class_dir + file\n",
    "        image = cv2.imread(file_dir) \n",
    "        \n",
    "        height, width, channels = image.shape\n",
    "        max_val = max(height, width)\n",
    "        square= np.zeros((max_val,max_val,3), np.uint8)\n",
    "        height_from, height_to = int((max_val-height)/2), int(max_val-(max_val-height)/2)\n",
    "        width_from, width_to = int((max_val-width)/2), int(max_val-(max_val-width)/2)\n",
    "        square[height_from:height_to, width_from:width_to] = image\n",
    "        image = square\n",
    "        \n",
    "        image = cv2.resize(image,(150,150))\n",
    "        image = image.astype('float32')/255\n",
    "        temp.append([image, name])\n",
    "        \n",
    "y_test = [j[1] for j in temp]\n",
    "train_hot = np.zeros([len(y_test), num_classes], np.uint8)\n",
    "\n",
    "for k in range(len(y_test)):\n",
    "    j = 0\n",
    "    for name in class_name:\n",
    "        if y_test[k] == name:\n",
    "            break\n",
    "        else:\n",
    "            j += 1\n",
    "\n",
    "    train_hot[k][j] = 1   \n",
    "\n",
    "y_test = train_hot\n",
    "x_test = np.array([j[0] for j in temp]).reshape(-1,150,150,3)\n",
    "\n",
    "np.save(\"numpy/x_test.npy\" ,x_test)\n",
    "np.save(\"numpy/y_test.npy\" ,y_test)"
   ]
  },
  {
   "cell_type": "code",
   "execution_count": null,
   "metadata": {},
   "outputs": [],
   "source": []
  }
 ],
 "metadata": {
  "kernelspec": {
   "display_name": "Python 3",
   "language": "python",
   "name": "python3"
  },
  "language_info": {
   "codemirror_mode": {
    "name": "ipython",
    "version": 3
   },
   "file_extension": ".py",
   "mimetype": "text/x-python",
   "name": "python",
   "nbconvert_exporter": "python",
   "pygments_lexer": "ipython3",
   "version": "3.6.4"
  }
 },
 "nbformat": 4,
 "nbformat_minor": 2
}
